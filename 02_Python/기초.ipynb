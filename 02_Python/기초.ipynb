{
 "cells": [
  {
   "cell_type": "code",
   "execution_count": null,
   "id": "62beed13-ba6b-4351-bda3-ef16337374f5",
   "metadata": {},
   "outputs": [],
   "source": [
    "# shift + enter : 실행 후 다음 cell 이동\n",
    "# control + enter : 실행 후 그 cell에 머물러 있는다.\n",
    "# 명령 모드 -a : 위에 빈 cell 추가, - b : 아래 빈 cell 추가, -x : cell 을 짤라내기, -v : cell 붙여넣기, - dd : cell 삭제\n",
    "# y : cell 코드모드로 변경\n",
    "# m : cell을 마크다운로 변경"
   ]
  },
  {
   "cell_type": "code",
   "execution_count": null,
   "id": "bb060c0a-f42e-430d-bf0d-7303a5f68be5",
   "metadata": {},
   "outputs": [],
   "source": [
    "\n"
   ]
  }
 ],
 "metadata": {
  "kernelspec": {
   "display_name": "Python 3 (ipykernel)",
   "language": "python",
   "name": "python3"
  },
  "language_info": {
   "codemirror_mode": {
    "name": "ipython",
    "version": 3
   },
   "file_extension": ".py",
   "mimetype": "text/x-python",
   "name": "python",
   "nbconvert_exporter": "python",
   "pygments_lexer": "ipython3",
   "version": "3.12.9"
  }
 },
 "nbformat": 4,
 "nbformat_minor": 5
}
