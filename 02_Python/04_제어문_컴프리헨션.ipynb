{
 "cells": [
  {
   "cell_type": "markdown",
   "id": "8c49cd8e",
   "metadata": {
    "slideshow": {
     "slide_type": "slide"
    }
   },
   "source": [
    "# 제어문(Control flow statement)\n",
    "\n",
    "기본적으로 프로그램은 순차구조를 가진다. 즉 작성한 순서대로 실행이 된다.  \n",
    "이런 실행흐름을 다른 순서로 제어하기 위한 구문을 만드는 문법이 제어문이다.  \n",
    "제어문은 **조건문** 과 **반복문** 두가지 문법이 있다.\n",
    "\n",
    "-   **조건문**\n",
    "    -   if 문\n",
    "-   **반복문**\n",
    "    -   while 문\n",
    "    -   for in 문\n"
   ]
  },
  {
   "cell_type": "markdown",
   "id": "92c502ce",
   "metadata": {
    "slideshow": {
     "slide_type": "slide"
    }
   },
   "source": [
    "# 조건문/분기문 (conditional statement)\n",
    "\n",
    "-   프로그램이 명령문들을 실행하는 도중 특정 순서에서 **조건에 따라 흐름의 나눠져야 하는 경우 사용한다**\n",
    "-   파이썬은 조건문으로 **if문**이 있다.\n",
    "\n",
    "![조건문](images/ch03_01.png)\n",
    "\n",
    "<center>입력 받은 a 의 값이 0인지 여부에 따라 두가지 흐름으로 분기된다.</center>\n"
   ]
  },
  {
   "cell_type": "code",
   "execution_count": 3,
   "id": "19c6f9fa-c573-4dd7-a8de-144371b57adb",
   "metadata": {
    "scrolled": true
   },
   "outputs": [
    {
     "ename": "IndentationError",
     "evalue": "unexpected indent (4279234123.py, line 2)",
     "output_type": "error",
     "traceback": [
      "  \u001b[36mCell\u001b[39m\u001b[36m \u001b[39m\u001b[32mIn[3]\u001b[39m\u001b[32m, line 2\u001b[39m\n\u001b[31m    \u001b[39m\u001b[31mprint(a)\u001b[39m\n    ^\n\u001b[31mIndentationError\u001b[39m\u001b[31m:\u001b[39m unexpected indent\n"
     ]
    }
   ],
   "source": [
    "a = 10\n",
    " print(a)"
   ]
  },
  {
   "cell_type": "code",
   "execution_count": null,
   "id": "4b7eb52c-b41b-4b2b-a6ae-a1112ca0a427",
   "metadata": {},
   "outputs": [],
   "source": []
  },
  {
   "cell_type": "markdown",
   "id": "2a3c1835",
   "metadata": {
    "slideshow": {
     "slide_type": "subslide"
    }
   },
   "source": [
    "## 구문\n",
    "\n",
    "-   조건이 True일 경우만 특정 구문들을 실행 하는 조건문.\n",
    "\n",
    "```python\n",
    "if 조건:    # 조건은 bool 표현식을 기술한다. 조건선언 다음에 : 으로 선언해서 코드블록을 구분한다.\n",
    "    명령문1  # 조건이 True이면 실행할 구문들을 코드블럭에 기술한다.\n",
    "    명령문2  # 코드 블록은 들여쓰기를 이용해 묶어준다. 보통 공백 4칸으로 들여쓰기를 한다.\n",
    "    ...\n",
    "```\n",
    "\n",
    "> ### 파이썬의 코드블록(code block)\n",
    ">\n",
    "> 코드블록이란 **여러 명령문들을 묶어놓은 것을** 말한다. 코드블록으로 묶이면 실행시 같이 다 실행되고 실행이 안되면 같이 다 실행이 안된다.  \n",
    "> 파이썬에서는 코드블록을 작성할 때 **들여쓰기를 이용해 묶어준다.**  \n",
    "> 같은 칸만큼 들여쓰기를 한 명령문들이 같은 블록으로 묶인다.\n",
    "> 들여쓰기는 관례적으로 **공백 4칸을** 사용한다.\n",
    "\n",
    "> ### pass 키워드(예약어)\n",
    ">\n",
    "> -   빈 구현부를 만들때 사용\n",
    ">     -   제어문, 함수의 body 코드블럭은 비울 수 없다. 반드시 명령문을 한개 이상 작성해야한다.\n",
    ">     -   작성할 내용이 없을 경우 사용하는 키워드로 `pass`를 사용한다.\n"
   ]
  },
  {
   "cell_type": "code",
   "execution_count": 16,
   "id": "9aa311a5",
   "metadata": {
    "slideshow": {
     "slide_type": "fragment"
    }
   },
   "outputs": [
    {
     "name": "stdin",
     "output_type": "stream",
     "text": [
      "정수 0\n"
     ]
    },
    {
     "name": "stdout",
     "output_type": "stream",
     "text": [
      "0입니다.\n",
      "zero\n",
      "영\n",
      "종료\n"
     ]
    }
   ],
   "source": [
    "num = int(input(\"정수\"))\n",
    "# num 0이면 \"영입니다.\" 를 출력\n",
    "if num == 0 : # 선업부\n",
    "    print(\"0입니다.\")\n",
    "    print(\"zero\")\n",
    "    print(\"영\")\n",
    "print(\"종료\")"
   ]
  },
  {
   "cell_type": "code",
   "execution_count": 21,
   "id": "bcabad80-55ac-4393-85ef-0ac4287cde1a",
   "metadata": {},
   "outputs": [
    {
     "name": "stdin",
     "output_type": "stream",
     "text": [
      ">>>>정수: 22\n"
     ]
    },
    {
     "name": "stdout",
     "output_type": "stream",
     "text": [
      "입력받은숫자 num\n"
     ]
    }
   ],
   "source": [
    "num = int(input(\">>>>정수:\"))\n",
    "if num == 0:\n",
    "    print(\"영업니다\")\n",
    "    print(\"this is zero\")\n",
    "else:\n",
    "    print(f\"입력받은숫자 num\")"
   ]
  },
  {
   "cell_type": "code",
   "execution_count": null,
   "id": "6e589559-58f4-4b53-bd27-b3fea8af1813",
   "metadata": {},
   "outputs": [],
   "source": [
    "num = int(input(\">>>>정수:\"))\n",
    "if num == 0:\n",
    "   pass\n",
    "else:\n",
    "    print(f\"입력받은숫자 num\")"
   ]
  },
  {
   "cell_type": "code",
   "execution_count": 4,
   "id": "51ddb405-e31c-45dd-8c49-13fc250c0ab7",
   "metadata": {},
   "outputs": [
    {
     "name": "stdout",
     "output_type": "stream",
     "text": [
      "영아님\n"
     ]
    }
   ],
   "source": [
    "num = 10\n",
    "if num == 0: print(\"영입니다\")\n",
    "else: print(\"영아님\")"
   ]
  },
  {
   "cell_type": "markdown",
   "id": "09c79c35",
   "metadata": {
    "slideshow": {
     "slide_type": "subslide"
    }
   },
   "source": [
    "-   **조건이 True일 때 False일때 실행 구문이 분기되는 조건문.**\n",
    "\n",
    "```python\n",
    "if 조건:\n",
    "    명령문1_1 # 조건이 True일 경우 실행할 구문들\n",
    "    명령문1_2\n",
    "    ...\n",
    "else:\n",
    "    명령문2_1 # 조건이 False일 경우 실행할 구문들\n",
    "    명령문2_2\n",
    "    ...\n",
    "```\n"
   ]
  },
  {
   "cell_type": "code",
   "execution_count": null,
   "id": "87b51956",
   "metadata": {
    "slideshow": {
     "slide_type": "fragment"
    }
   },
   "outputs": [],
   "source": [
    "# else 적용시 명령문을 한개라도 넣어야된다."
   ]
  },
  {
   "cell_type": "markdown",
   "id": "621eae9a",
   "metadata": {
    "slideshow": {
     "slide_type": "subslide"
    }
   },
   "source": [
    "-   **조건이 여러 개인 조건문.**\n",
    "\n",
    "```python\n",
    "if 조건1:\n",
    "    명령문1_1  # 조건1이 True일 경우 실행할 코드블록.\n",
    "    명령문1_2\n",
    "    ...\n",
    "elif 조건2:    # 다음 조건으로 앞의 조건들이 모드 False일 경우 비교한다.\n",
    "    명령문2_1  # 조건2가 True일 경우 실행할 코드블록.\n",
    "    명령문2_2\n",
    "    ...\n",
    "elif 조건3 :\n",
    "    명령문3_1\n",
    "    명령문3_2\n",
    "    ...\n",
    "else:         # 위의 모든 조건이 False일 경우 실행하는 코드블록. 생략 가능하다.\n",
    "    명령문4\n",
    "```\n"
   ]
  },
  {
   "cell_type": "code",
   "execution_count": 7,
   "id": "4c6a532d",
   "metadata": {
    "slideshow": {
     "slide_type": "fragment"
    }
   },
   "outputs": [
    {
     "name": "stdin",
     "output_type": "stream",
     "text": [
      ">>>정수 0\n"
     ]
    },
    {
     "name": "stdout",
     "output_type": "stream",
     "text": [
      "영입니다\n",
      "종료\n"
     ]
    }
   ],
   "source": [
    "num = int(input(\">>>정수\")) #1\n",
    "if num == 0: #2\n",
    "    print(\"영입니다\")\n",
    "elif num >0:\n",
    "    print(\"양수입니다\")\n",
    "else:\n",
    "    print(\"움수입니다.\")\n",
    "print(\"종료\") #3"
   ]
  },
  {
   "cell_type": "markdown",
   "id": "2149b728",
   "metadata": {
    "slideshow": {
     "slide_type": "slide"
    }
   },
   "source": [
    "# 반복문 (Loop statement)\n",
    "\n",
    "특정 구문들을 반복해서 실행할 때 사용한다. 동일한 코드를 여러번 반복하거나 값이 일정하게 변하는 코드를 반복할 경우 사용한다.  \n",
    "단순 반복을 처리하는 **while문**과 iterable객체가 제공하는 값들을 반복 조회하는 **for in문** 두가지 문법이 있다.\n",
    "\n",
    "![반복문](images/ch03_02.png)\n",
    "\n",
    "<center>count의 값이 limit의 값보다 크거나 같을때 까지 count의 값을 1증가 후 출력하는 구문을 반복한다. </center>\n"
   ]
  },
  {
   "cell_type": "markdown",
   "id": "b4740a36",
   "metadata": {
    "slideshow": {
     "slide_type": "subslide"
    }
   },
   "source": [
    "## while문\n",
    "\n",
    "-   조건이 True인 동안 구문을 반복해서 실행한다.\n",
    "\n",
    "### 구문\n",
    "\n",
    "```python\n",
    "while 조건:       # 조건은 bool 표현식을 기술한다. 조건선언 다음에 : 으로 선언해서 코드블록을 구분한다\n",
    "    반복할 구문1  # 반복할 구문을 코드블록으로 작성한다.\n",
    "    반복할 구문2\n",
    "    ...\n",
    "```\n"
   ]
  },
  {
   "cell_type": "code",
   "execution_count": 10,
   "id": "6b11bde6",
   "metadata": {
    "slideshow": {
     "slide_type": "fragment"
    }
   },
   "outputs": [
    {
     "name": "stdout",
     "output_type": "stream",
     "text": [
      "1. 안녕하세요\n",
      "2. 안녕하세요\n",
      "3. 안녕하세요\n",
      "4. 안녕하세요\n",
      "5. 안녕하세요\n",
      "6. 안녕하세요\n",
      "7. 안녕하세요\n",
      "8. 안녕하세요\n",
      "9. 안녕하세요\n",
      "10. 안녕하세요\n",
      "종료\n"
     ]
    }
   ],
   "source": [
    "count = 0\n",
    "limit = 10\n",
    "while count < limit:\n",
    "    count += 1\n",
    "    print(f\"{count}. 안녕하세요\")\n",
    "    pass\n",
    "print('종료')"
   ]
  },
  {
   "cell_type": "markdown",
   "id": "04f12e55",
   "metadata": {
    "slideshow": {
     "slide_type": "subslide"
    }
   },
   "source": [
    "## for in 문\n",
    "\n",
    "-   Iterable 객체를 순환조회하는 구문\n",
    "    -   for in문은 Iterable 타입의 객체가 가지고 있는 값들을 하나씩 처리하는 구문을 작성할 때 사용한다.\n",
    "\n",
    "> -   **Iterable**\n",
    ">     -   반복가능한 객체. 반복문(for in)을 이용해 일련의 값들을 반복적으로 각각 제공하는 객체를 말한다.\n",
    ">     -   대표적으로 List, Tuple, Dictionary, Set, 문자열 등이 있다.\n",
    "\n",
    "### 구문\n",
    "\n",
    "```python\n",
    "for 변수 in Iterable: # for in 선언후 : 으로 선언부와 구현부를 나눈다.\n",
    "    반복구문          # Iterable이 반복시 제공하는 값을 가지는 \"변수\"를 이용해 값들을 처리하는 구문을 코드블록으로 작성한다.\n",
    "    반복구문\n",
    "```\n"
   ]
  },
  {
   "cell_type": "code",
   "execution_count": 15,
   "id": "da0ce0f6",
   "metadata": {
    "slideshow": {
     "slide_type": "fragment"
    }
   },
   "outputs": [
    {
     "name": "stdout",
     "output_type": "stream",
     "text": [
      "100\t10\t50\t30\t5000\t"
     ]
    }
   ],
   "source": [
    "l = [100,10,50,30,5000]\n",
    "# l의 모든 원소들 출력(Iterable(반복대상): ㅣ, 일괄처리:출력)\n",
    "for value in l:\n",
    "    print(value, end='\\t')"
   ]
  },
  {
   "cell_type": "code",
   "execution_count": 27,
   "id": "95e0b353-edbf-4d32-826e-8ebc855967e1",
   "metadata": {},
   "outputs": [
    {
     "name": "stdout",
     "output_type": "stream",
     "text": [
      "[200]\n",
      "[200, 20]\n",
      "[200, 20, 100]\n",
      "[200, 20, 100, 60]\n",
      "[200, 20, 100, 60, 10000]\n"
     ]
    }
   ],
   "source": [
    "result = []\n",
    "for value in l:\n",
    "    # print(value * 2)\n",
    "    result.append(value * 2)\n",
    "    # print(l)\n",
    "    print(result)"
   ]
  },
  {
   "cell_type": "code",
   "execution_count": 32,
   "id": "2d646341-89cc-403b-aa41-14aaa78a00e0",
   "metadata": {
    "scrolled": true
   },
   "outputs": [
    {
     "name": "stdout",
     "output_type": "stream",
     "text": [
      "100는 3의배수가 아님\n",
      "10는 3의배수가 아님\n",
      "50는 3의배수가 아님\n",
      "30\n",
      "5000는 3의배수가 아님\n"
     ]
    }
   ],
   "source": [
    "# 3의 배수를 찾기(Iterable = l , 일괄처리: 3의 배수인지 확인)\n",
    "for value in l:\n",
    "    if value % 3 == 0:\n",
    "        print(value)\n",
    "    else:\n",
    "        print(f\"{value}는 3의배수가 아님\")"
   ]
  },
  {
   "cell_type": "code",
   "execution_count": 33,
   "id": "b5b331d8-2b83-4b89-87ed-367f5d6c195c",
   "metadata": {},
   "outputs": [
    {
     "name": "stdout",
     "output_type": "stream",
     "text": [
      "10\n",
      "20\n",
      "30\n"
     ]
    }
   ],
   "source": [
    "s = {10, 20 ,30}\n",
    "for v in s:\n",
    "    print(v)"
   ]
  },
  {
   "cell_type": "code",
   "execution_count": 35,
   "id": "62c8537b-085e-4e53-82e4-ffae82573ff8",
   "metadata": {},
   "outputs": [
    {
     "name": "stdout",
     "output_type": "stream",
     "text": [
      "a 10\n",
      "b 20\n",
      "c 30\n"
     ]
    }
   ],
   "source": [
    "#dict\n",
    "d = {\"a\":10, \"b\":20, \"c\":30}\n",
    "for key in d:\n",
    "    print(key, d[key])"
   ]
  },
  {
   "cell_type": "code",
   "execution_count": 36,
   "id": "eb3827ce-adaa-4dfa-a2db-3083adcbe7b9",
   "metadata": {
    "scrolled": true
   },
   "outputs": [
    {
     "name": "stdout",
     "output_type": "stream",
     "text": [
      "10\n",
      "20\n",
      "30\n"
     ]
    }
   ],
   "source": [
    "for v in d.values():\n",
    "    print(v)"
   ]
  },
  {
   "cell_type": "code",
   "execution_count": 37,
   "id": "5ba347b8-d4da-4245-9e0b-5b2528ba65c0",
   "metadata": {},
   "outputs": [
    {
     "name": "stdout",
     "output_type": "stream",
     "text": [
      "a 10\n"
     ]
    }
   ],
   "source": [
    "d.items()\n",
    "#[('a' , 10), ('b' , '20') , ('c' , 30)\n",
    "k, v = ('a' , 10)\n",
    "print(k , v)"
   ]
  },
  {
   "cell_type": "code",
   "execution_count": 41,
   "id": "eeeef5be-8b6d-4d9e-a60c-a27f82d9cdc0",
   "metadata": {},
   "outputs": [
    {
     "name": "stdout",
     "output_type": "stream",
     "text": [
      "a 10\n",
      "b 20\n",
      "c 30\n"
     ]
    }
   ],
   "source": [
    "for key, value in d.items(): #원소가 자료구조일 떄 원소 개수만큼 변수를 선언할수 있다.\n",
    "    print(key, value)"
   ]
  },
  {
   "cell_type": "code",
   "execution_count": 43,
   "id": "6d2a0eec-3daf-4504-8c47-4b6c83707f8a",
   "metadata": {},
   "outputs": [
    {
     "name": "stdout",
     "output_type": "stream",
     "text": [
      "가 , 나 , 다 , a , b , c , d , 1 , 2 , 3 , 4 , "
     ]
    }
   ],
   "source": [
    "#문자열\n",
    "for char in \"가나다abcd1234\":\n",
    "    print(char, end=' , ')"
   ]
  },
  {
   "cell_type": "markdown",
   "id": "1f30cd6f",
   "metadata": {
    "slideshow": {
     "slide_type": "subslide"
    }
   },
   "source": [
    "## continue와 break를 이용한 반복문 제어\n",
    "\n",
    "-   **continue**\n",
    "    -   실행 블록에서 continue가 실행되면 현재 반복을 중단하고 다음 반복을 진행한다.\n",
    "    -   특정 조건에서 처리를 멈추고 다음 처리를 반복할 때 사용한다.\n",
    "-   **break**\n",
    "    -   반복문 실행을 중단한다.\n",
    "    -   특정 조건에서 반복문을 중간에 중지할때 사용한다.\n",
    "-   continue와 break는 특정 조건에서 실행되야 하는 경우가 대부분이므로 if문 안에 작성한다.\n"
   ]
  },
  {
   "cell_type": "code",
   "execution_count": 46,
   "id": "90c41e9f",
   "metadata": {
    "slideshow": {
     "slide_type": "fragment"
    }
   },
   "outputs": [
    {
     "name": "stdout",
     "output_type": "stream",
     "text": [
      "2\n",
      "4\n",
      "6\n",
      "8\n",
      "10\n"
     ]
    }
   ],
   "source": [
    "l = [1,2,3,4,5,6,7,8,9,10]\n",
    "#짝수만출력\n",
    "for v in l:\n",
    "    if v % 2 !=0:\n",
    "        continue\n",
    "    print(v)"
   ]
  },
  {
   "cell_type": "code",
   "execution_count": 55,
   "id": "bab28f5c-e7fe-4707-b1eb-dcd9f30d71cf",
   "metadata": {},
   "outputs": [
    {
     "name": "stdout",
     "output_type": "stream",
     "text": [
      "종료\n"
     ]
    }
   ],
   "source": [
    "#만약에 7이면 반복을 종료.\n",
    "for v in l:\n",
    "    if v == 7:\n",
    "        # continue 7만 뺴고 출력\n",
    "        break\n",
    "        print(v)\n",
    "print('종료')"
   ]
  },
  {
   "cell_type": "code",
   "execution_count": 73,
   "id": "0abd638e-e0c5-484c-a161-f57f9cae2c56",
   "metadata": {},
   "outputs": [
    {
     "data": {
      "text/plain": [
       "19"
      ]
     },
     "execution_count": 73,
     "metadata": {},
     "output_type": "execute_result"
    }
   ],
   "source": [
    "import random\n",
    "random.randint(10,20)# 시작(10)~ 끝(20) 범위 안에 있는 임의의 정수를 반환(난수=random값)반환"
   ]
  },
  {
   "cell_type": "code",
   "execution_count": 122,
   "id": "fda36436-37c0-4c83-80c6-b120b67cb72c",
   "metadata": {
    "scrolled": true
   },
   "outputs": [
    {
     "name": "stdout",
     "output_type": "stream",
     "text": [
      "종료\n",
      "[44, 68, 30, 78, 63, 88, 37, 58, 71, 71, 9, 91, 96, 35, 20, 36, 43, 27, 60, 8, 66, 26, 18, 76, 15, 37, 12, 69, 6, 81, 16, 97, 19, 23, 45, 14, 30, 68, 31, 20, 94, 74, 10, 72, 19, 48, 86, 21, 66, 10, 20, 46, 49, 7, 6, 41, 49, 84, 83, 83, 49, 31, 17, 7, 61, 51, 48, 87, 39, 85, 60, 4, 22, 12, 88, 71, 10, 74, 36, 37, 39, 92, 80, 29, 8, 58, 92, 95, 9, 46, 98, 81, 28, 14, 7, 82, 74, 8, 73, 29, 68, 1, 9, 13, 95, 98, 94, 58, 39, 47, 75, 92, 22, 84, 62, 87, 52, 52, 94, 6, 94, 94, 76, 91, 20, 14, 42, 84, 52, 49, 8, 74, 18, 90, 73, 80, 66, 58, 96, 62, 68, 95, 57, 22, 54, 24, 74, 53, 27, 80, 16, 92, 75, 43, 10, 22, 95, 3, 11, 3, 73, 56, 63, 67, 14, 22, 83, 67, 26, 45, 46, 62, 32, 92, 58, 88, 3, 44, 60, 27, 94, 87, 31, 86, 29, 65, 74, 91, 61, 8, 94, 14, 81, 34, 13, 91, 3, 33, 91, 86, 87, 72, 49, 82, 16, 85, 48, 44, 50, 69, 20, 44, 92, 58, 58, 78, 65, 7, 65, 25, 96, 34, 61, 70, 48, 47, 18, 31, 53, 3, 45, 92, 23, 26, 10, 62, 86, 19, 11, 86, 29, 23, 99, 34, 78, 14, 13, 12, 24, 90, 50, 9, 6, 75, 41, 44, 27, 14, 46, 67, 34, 61, 24, 81, 57, 22, 5, 38, 66, 5, 4, 68, 35, 80, 13, 18, 29, 20, 23, 8, 86, 19, 36, 29, 41, 83, 3, 31, 27, 92, 35, 21, 20, 13, 82, 85, 64, 14, 88, 39, 58, 25, 82, 96, 21, 31, 95, 28, 71, 48, 7, 33, 47, 55, 21, 61, 35, 60, 74, 54, 36, 99, 78, 53, 36, 76, 72, 64, 21, 89, 56, 22, 33, 55, 1, 70, 36, 24, 31, 66, 1, 69, 59, 90, 13, 39, 6, 44, 59, 10, 13, 7, 62, 60, 6, 78, 97, 8, 74, 95, 78, 64, 80, 11, 81, 62, 96, 72, 60, 6, 28, 94, 57, 25, 63, 84, 87, 12, 41, 10, 16, 43, 44, 8, 11, 96, 27, 77, 78, 7, 91, 48, 14, 91, 86, 13, 66, 17, 30, 73, 34, 39, 38, 89, 7, 81, 7, 45, 39, 39, 80, 15, 16, 98, 22, 14, 79, 16, 62, 85, 72, 15, 99, 44, 79, 7, 3, 19, 36, 48, 25, 65, 58, 80, 50, 38, 96, 42, 61, 47, 96, 63, 4, 97, 50, 8, 20, 24, 65, 100, 50, 13, 59, 20, 55, 49, 1, 100, 20, 63, 16, 12, 47, 42, 26, 19, 18, 43, 52, 99, 11, 80, 63, 2, 66, 35, 56, 100, 3, 71, 2, 52, 18, 14, 54, 76, 64, 78, 36, 32, 74, 17, 72, 96, 42, 41, 34, 2, 67, 88, 93, 91, 12, 31, 67, 88, 24, 30, 79, 3, 82, 88, 84, 27, 71, 46, 66, 84, 87, 80, 62, 24, 24, 95, 53, 98, 85, 13, 4, 47, 29, 9, 32, 61, 62, 16, 89, 31, 44, 21, 80, 50, 89, 26, 70, 20, 63, 11, 50, 24, 15, 64, 64, 75, 18, 5, 12, 46, 100, 60, 6, 27, 57, 67, 58, 12, 19, 27, 56, 62, 12, 19, 67, 50, 87, 49, 76, 85, 51, 38, 93, 23, 2, 81, 17, 37, 8, 99, 41, 53, 14, 90, 6, 49, 50, 15, 50, 60, 96, 92, 72, 53, 11, 77, 66, 49, 50, 26, 92, 44, 80, 15, 32, 59, 69, 30, 68, 41, 78, 1, 33, 95, 56, 87, 92, 56, 56, 47, 19, 45, 78, 85, 94, 34, 19, 14, 90, 46, 72]\n",
      "[-39, -45, -48, -26, -70, -93, -84, -81, -48, -46, -60, -62, -41, -90, -37, -100, -59, -35, -67, -64, -60, -89, -83, -98, -82, -73, -17, -2, -38, -46, -95, -9, -90, -2, -53, -93, -35, -68, -44, -32, -80, -52, -23, -67, -24, -30, -83, -72, -75, -19, -73, -41, -35, -30, -60, -61, -92, -16, -54, -48, -51, -10, -48, -61, -95, -23, -26, -97, -51, -35, -40, -19, -54, -26, -1, -58, -35, -43, -100, -67, -6, -70, -68, -19, -42, -7, -90, -35, -66, -1, -14, -12, -33, -12, -93, -61, -51, -16, -13, -20, -69, -98, -6, -63, -66, -1, -31, -4, -40, -94, -46, -24, -40, -40, -82, -10, -72, -4, -72, -64, -73, -62, -51, -21, -44, -87, -81, -2, -44, -69, -65, -8, -33, -32, -8, -22, -51, -55, -82, -95, -28, -51, -80, -17, -55, -45, -79, -60, -41, -42, -12, -69, -13, -60, -90, -2, -39, -28, -46, -1, -21, -46, -13, -17, -46, -72, -89, -54, -93, -41, -23, -29, -33, -42, -69, -95, -32, -28, -95, -32, -96, -78, -19, -34, -97, -12, -94, -69, -91, -70, -58, -81, -17, -69, -20, -18, -34, -39, -41, -38, -98, -92, -78, -95, -13, -87, -92, -2, -63, -24, -21, -94, -81, -36, -22, -10, -72, -62, -54, -73, -2, -37, -53, -21, -70, -33, -18, -20, -26, -16, -95, -46, -96, -88, -47, -19, -86, -96, -13, -61, -97, -4, -98, -13, -30, -70, -99, -71, -79, -64, -7, -9, -97, -29, -40, -99, -8, -1, -74, -83, -59, -51, -31, -41, -33, -60, -99, -55, -37, -51, -33, -88, -46, -41, -75, -21, -83, -21, -32, -9, -76, -28, -33, -63, -83, -28, -82, -53, -16, -1, -27, -49, -11, -67, -78, -94, -3, -22, -4, -22, -16, -32, -66, -25, -26, -85, -64, -3, -31, -70, -65, -67, -18, -50, -37, -4, -16, -27, -78, -24, -60, -86, -36, -97, -29, -55, -63, -80, -87, -15, -90, -14, -58, -27, -89, -31, -67, -36, -22, -24, -72, -45, -30, -35, -81, -88, -19, -49, -62, -22, -82, -42, -6, -12, -61, -83, -73, -47, -65, -69, -76, -79, -5, -4, -58, -35, -13, -69, -36, -45, -17, -11, -72, -96, -55, -83, -95, -89, -13, -18, -35, -45, -49, -64, -22, -12, -75, -38, -77, -31, -10, -65, -78, -5, -7, -69, -16, -58, -62, -49, -7, -59, -22, -39, -71, -66, -57, -72, -20, -58, -64, -70, -6, -56, -77, -31, -24, -11, -36, -52, -40, -14, -98, -18, -55, -33, -96, -14, -75, -44, -36, -82, -53, -88, -78, -7, -77, -66, -39, -13, -1, -46, -47, -59, -79, -28, -100, -47, -20, -33, -87, -35, -81, -75, -69, -27, -48, -91, -84, -96, -44, -56, -59, -9, -55, -55, -68, -10, -57, -47, -4, -60, -41, -23, -19, -15, -40, -56, -74, -16, -28, -8, -77, -13, -97, -58, -96, -84, -43, -91, -56, -65, -89, -41, -26, -53, -13, -69, -33, -19, -52, -77, -58, -60, -81, -34, -85, -46, -12, -19, -19, -75, -18, -49, -21, -37, -1, -2, -23, -67, -84, -54, -11, -45, -46, -95, -46, -95, -84, -15, -88, -72, -79, -79, -79, -100, -68, -54, -21, -91, -38, -51, -18, -24, -40, -42, -44, -23, -26, -53, -20, -53, -62, -43, -87, -96, -70, -5, -88, -99, -25, -75, -84, -48, -51, -33, -88, -84, -4, -19, -91, -7, -55, -86, -26, -60, -5, -69, -82, -61, -11, -55, -47, -98, -89, -36, -28, -73, -71, -54, -71, -93, -2, -64, -41, -54, -60, -11, -45, -93, -71, -60, -10, -75, -6, -69, -17, -79, -50, -64, -67, -46, -62, -46, -43, -26, -43, -69, -96, -28, -88, -70, -23, -47, -64, -67, -88, -76, -77]\n"
     ]
    }
   ],
   "source": [
    "# -100 ~ 100 범위에 정수 난수를 생성\n",
    "# 생성된 정수 중 양수는 'pos_result' 리스트에 음수는 neg_result'리스트에 저장\n",
    "# 0이되면 종료\n",
    "\n",
    "pos_result = []\n",
    "neg_result = []\n",
    "num = random.randint(-100,100)\n",
    "while num !=0:\n",
    "    if num>0:\n",
    "        pos_result.append(num)\n",
    "    else:\n",
    "        neg_result.append(num)\n",
    "    num = random.randint(-100,100)\n",
    "print('종료')\n",
    "print(pos_result)\n",
    "print(neg_result)"
   ]
  },
  {
   "cell_type": "code",
   "execution_count": 168,
   "id": "6991135d-e5ea-4e35-ad67-1a1553f490f8",
   "metadata": {
    "scrolled": true
   },
   "outputs": [
    {
     "name": "stdout",
     "output_type": "stream",
     "text": [
      "[28, 99, 59, 85, 96, 5, 90]\n",
      "[-9, -16, -42, -88, -28, -98, -55, -37, -25, -79, -55, -45, -92, -2, -11, -46, -21, -12, -29, -13]\n"
     ]
    }
   ],
   "source": [
    "pos_result = []\n",
    "neg_result = []\n",
    "while True:\n",
    "    num = random.randint(-100,100)\n",
    "    if num>0:\n",
    "        pos_result.append(num)\n",
    "    elif num <0:\n",
    "        neg_result.append(num)\n",
    "    else:\n",
    "        break\n",
    "print(pos_result)\n",
    "print(neg_result)"
   ]
  },
  {
   "cell_type": "code",
   "execution_count": 173,
   "id": "504f1afb-2080-490a-8c45-1f94bd3d7d8d",
   "metadata": {},
   "outputs": [
    {
     "name": "stdout",
     "output_type": "stream",
     "text": [
      "종료\n"
     ]
    }
   ],
   "source": [
    "pos_result = []\n",
    "neg_result = []\n",
    "#:=(왈러스 연산자 - 대입연산자) - if/while 조건절. \n",
    "# 값을 변수에 대입한 후 반환 1. 값을 변수에 대입, 2. 대입한 값을 while문 조건절에서 사용.\n",
    "while num := random.randint(-100,100):\n",
    "    # while num := random.randint(-100,100) !=0 :\n",
    "    if num>0:\n",
    "        pos_result.append(num)\n",
    "    else:\n",
    "        neg_result.append(num)\n",
    "print('종료')"
   ]
  },
  {
   "cell_type": "code",
   "execution_count": 174,
   "id": "b38ad412-8de9-419b-b244-212d058deb84",
   "metadata": {},
   "outputs": [
    {
     "name": "stdout",
     "output_type": "stream",
     "text": [
      "20\n"
     ]
    }
   ],
   "source": [
    "(a:=20) >0\n",
    "print(a) \n",
    "#  1.a에 20을 넣고, 2.a와 0을 비교"
   ]
  },
  {
   "cell_type": "markdown",
   "id": "dc6099c5",
   "metadata": {
    "slideshow": {
     "slide_type": "slide"
    }
   },
   "source": [
    "## for in 문 연관 내장 함수\n",
    "\n",
    "### range()\n",
    "\n",
    "-   일정한 간격의 연속된 정수를 제공하는 반복가능 객체 생성한다.\n",
    "-   구문\n",
    "    -   `range([시작값], 멈춤값, [증감값])`\n",
    "        -   시작값, 멈춤값, 증감값 모두 정수만 가능하다.\n",
    "        -   시작값 > 멈춤값 이고 증감값이 음수이면 내림차순으로 값을 제공한다.\n",
    "        1. 전달값이 **1개: 멈춤값**.\n",
    "            - 0 ~ (멈춤값-1)까지 1씩 증가하는 정수를 제공\n",
    "        2. 전달값이 **2개: 시작값, 멈춤값**.\n",
    "            - 시작값 ~ (멈춤값-1) 까지 1씩 증가하는 정수 제공\n",
    "        3. 전달값이 **3개: 시작값, 멈춤값, 증감값(간격)**.\n",
    "            - 시작값 ~ (멈춤값-1)까지 증감값만큼 증가하는 정수를 제공.\n"
   ]
  },
  {
   "cell_type": "code",
   "execution_count": 181,
   "id": "352d937b",
   "metadata": {
    "slideshow": {
     "slide_type": "fragment"
    }
   },
   "outputs": [],
   "source": [
    "for v in range(10, 10 , 3): #[시작값 종료값 간격]\n",
    "    print(v, end = '\\t')"
   ]
  },
  {
   "cell_type": "code",
   "execution_count": 182,
   "id": "4139af2d-951c-4ee2-be80-f9337285ce1e",
   "metadata": {},
   "outputs": [
    {
     "name": "stdout",
     "output_type": "stream",
     "text": [
      "0\t1\t2\t3\t4\t5\t6\t7\t8\t9\t"
     ]
    }
   ],
   "source": [
    "for v in range(10): #[시작값 종료값 간격]\n",
    "    print(v, end = '\\t')"
   ]
  },
  {
   "cell_type": "code",
   "execution_count": 191,
   "id": "2ec1539a-f695-49e3-ae44-bbf0f01806e2",
   "metadata": {},
   "outputs": [
    {
     "data": {
      "text/plain": [
       "[10, 8, 6, 4, 2, 0, -2, -4, -6, -8, -10]"
      ]
     },
     "execution_count": 191,
     "metadata": {},
     "output_type": "execute_result"
    }
   ],
   "source": [
    "#rnage():iterble\n",
    "l = list(range(1,11))\n",
    "l = set(range(-10,10))\n",
    "list(range(10,-11,-2))\n"
   ]
  },
  {
   "cell_type": "code",
   "execution_count": 193,
   "id": "b6771009-a0bd-44f3-9174-04cd1ad1f6e5",
   "metadata": {},
   "outputs": [
    {
     "name": "stdout",
     "output_type": "stream",
     "text": [
      "ㅎㅇ\n",
      "ㅎㅇ\n",
      "ㅎㅇ\n",
      "ㅎㅇ\n",
      "ㅎㅇ\n",
      "ㅎㅇ\n",
      "ㅎㅇ\n",
      "ㅎㅇ\n",
      "ㅎㅇ\n",
      "ㅎㅇ\n"
     ]
    }
   ],
   "source": [
    "for _ in range(10): #변수명 '_' 사용하는 경우: 사용하지 않을 변수인데 문법떄문에 넣어야 할 경우.\n",
    "    print('ㅎㅇ')"
   ]
  },
  {
   "cell_type": "markdown",
   "id": "5de9d74e",
   "metadata": {
    "slideshow": {
     "slide_type": "subslide"
    }
   },
   "source": [
    "## enumerate()\n",
    "\n",
    "-   구문\n",
    "    -   `enumerate(Iterable,  [, start=정수])`\n",
    "        -   현재 몇번째 값을 제공하는 지(현재 몇번째 반복인지)를 나타내는 **index**와 제공하는 **원소**를 tuple로 묶어서 반환\n",
    "        -   Iterable\n",
    "            -   값을 제공할 Iterable객체\n",
    "        -   start: 정수\n",
    "            -   index 시작 값. 생략하면 0부터 시작한다.\n"
   ]
  },
  {
   "cell_type": "code",
   "execution_count": 203,
   "id": "33dd96c5",
   "metadata": {
    "slideshow": {
     "slide_type": "fragment"
    }
   },
   "outputs": [
    {
     "name": "stdout",
     "output_type": "stream",
     "text": [
      "(0, 10)\n",
      "(1, 11)\n",
      "(2, 12)\n",
      "(3, 13)\n",
      "(4, 14)\n",
      "(5, 15)\n",
      "(6, 16)\n",
      "(7, 17)\n",
      "(8, 18)\n",
      "(9, 19)\n"
     ]
    }
   ],
   "source": [
    "l= list(range(10,20))\n",
    "for v in enumerate(l): #(index:몇번쨰 반복인지, 값)\n",
    "    print(v)"
   ]
  },
  {
   "cell_type": "code",
   "execution_count": 202,
   "id": "3223772b-08dc-436b-81c2-025cbb8fc222",
   "metadata": {},
   "outputs": [
    {
     "name": "stdout",
     "output_type": "stream",
     "text": [
      "0 10\n",
      "1 11\n",
      "2 12\n",
      "3 13\n",
      "4 14\n",
      "5 15\n",
      "6 16\n",
      "7 17\n",
      "8 18\n",
      "9 19\n"
     ]
    }
   ],
   "source": [
    "l= list(range(10,20))\n",
    "for v, x in enumerate(l): #(index:몇번쨰 반복인지, 값)\n",
    "    print(v, x)"
   ]
  },
  {
   "cell_type": "code",
   "execution_count": 208,
   "id": "4c0e226b-fac6-4597-9e2a-88c8fdcd7ba7",
   "metadata": {},
   "outputs": [
    {
     "name": "stdout",
     "output_type": "stream",
     "text": [
      "1000 - 중간결과\n",
      "2000 - 중간결과\n",
      "3000 - 중간결과\n",
      "4000 - 중간결과\n",
      "5000 - 중간결과\n",
      "6000 - 중간결과\n",
      "7000 - 중간결과\n",
      "8000 - 중간결과\n",
      "9000 - 중간결과\n",
      "10000 - 중간결과\n"
     ]
    }
   ],
   "source": [
    "#10000 반복처리 - > 중간결과를 1000번 한번씩 출력\n",
    "for idx, value in enumerate(range(10_000), start=1):\n",
    "    #작업\n",
    "    #중간결과를 출력\n",
    "    if idx % 1000 == 0:\n",
    "        print(f\"{idx} - 중간결과\")\n",
    "    "
   ]
  },
  {
   "cell_type": "markdown",
   "id": "f5a5540f",
   "metadata": {
    "slideshow": {
     "slide_type": "subslide"
    }
   },
   "source": [
    "## zip()\n",
    "\n",
    "-   여러 개의 Iterable 객체를 받아 반복시 같은 index의 값끼리 튜플로 묶어 반환한다.\n",
    "-   구문\n",
    "    -   `zip(Iterable1, Iterable2, Iterable3 [, .......])`\n",
    "        -   Iterable 2개이상.전달한다.\n",
    "-   각 Iterable이 제공하는 원소의 개수가가 다를 경우 가장 적은 것의 개수에 맞춰 반복한다.\n"
   ]
  },
  {
   "cell_type": "code",
   "execution_count": 210,
   "id": "1b99057f",
   "metadata": {
    "slideshow": {
     "slide_type": "fragment"
    }
   },
   "outputs": [
    {
     "name": "stdout",
     "output_type": "stream",
     "text": [
      "('이순신', 30, '서울')\n",
      "('장보고', 40, '인천')\n",
      "('김두한', 50, '부산')\n"
     ]
    }
   ],
   "source": [
    "name_list = ['이순신', '장보고', '김두한']\n",
    "age_list = [30,40,50]\n",
    "address_list = ['서울', '인천', '부산']\n",
    "#같은 index가 같은 사람의 데이터\n",
    "# 게별사람의 데이터를 출력(이순신 30 서울)\n",
    "for v in zip(name_list, age_list, address_list):\n",
    "    print(v)"
   ]
  },
  {
   "cell_type": "code",
   "execution_count": 224,
   "id": "b1f3c689-0e9b-4015-83d6-0226c663b6e8",
   "metadata": {},
   "outputs": [
    {
     "name": "stdout",
     "output_type": "stream",
     "text": [
      "이순신\n",
      "장보고\n",
      "김두한\n"
     ]
    }
   ],
   "source": [
    "for name, age,address in zip(name_list, age_list, address_list):\n",
    "    print(name)"
   ]
  },
  {
   "cell_type": "markdown",
   "id": "2df89dae",
   "metadata": {
    "slideshow": {
     "slide_type": "subslide"
    }
   },
   "source": [
    "# 컴프리헨션(Comprehension)\n",
    "\n",
    "-   기존 Iterable의 원소들을 이용해서 새로운 자료구조(List, Dictionary, Set)를 생성하는 구문.\n",
    "    -   기존 Iterable의 **원소들을 처리한 결과**나 **특정 조건이 True인 값들을** 새로운 자료구조에 넣을때 사용.\n",
    "    -   결과를 넣을 새로운 자료구조 타입에 따라 다음 세가지가 있다.\n",
    "        -   리스트 컴프리헨션\n",
    "        -   딕셔너리 컴프리헨션\n",
    "        -   셋 컴프리헨션\n",
    "- **튜플 컴프리헨션**은 tuple() 함수를 이용해서 만든다.\n",
    "-   **딕셔너리 컴프리헨션**과 **셋 컴프리헨션**은 파이썬 3 에 새로 추가되었다.\n",
    "-   컴프리헨션 문법은 iterable 을 타입을 넣는 곳에서는 다 적용할 수있다.\n"
   ]
  },
  {
   "cell_type": "code",
   "execution_count": 225,
   "id": "e04827d9",
   "metadata": {
    "slideshow": {
     "slide_type": "fragment"
    }
   },
   "outputs": [
    {
     "data": {
      "text/plain": [
       "[2, 4, 6]"
      ]
     },
     "execution_count": 225,
     "metadata": {},
     "output_type": "execute_result"
    }
   ],
   "source": [
    "l = [1,2,3,4,5,6]\n",
    "result = []\n",
    "for v in l:\n",
    "    if v % 2 == 0:\n",
    "        result.append(v)\n",
    "result"
   ]
  },
  {
   "cell_type": "code",
   "execution_count": 250,
   "id": "0e823c19-a5ac-4906-ad85-4bc4cca98a77",
   "metadata": {
    "scrolled": true
   },
   "outputs": [
    {
     "data": {
      "text/plain": [
       "[2, 4, 6]"
      ]
     },
     "execution_count": 250,
     "metadata": {},
     "output_type": "execute_result"
    }
   ],
   "source": [
    "#filtering을 컴프리헨션 문법으로 구현\n",
    "result4 = [v for v in l if v % 2 ==0]\n",
    "result4"
   ]
  },
  {
   "cell_type": "code",
   "execution_count": 256,
   "id": "6654b0e9-d502-4db1-935d-fdf5b32e5d29",
   "metadata": {},
   "outputs": [
    {
     "data": {
      "text/plain": [
       "[5, 9, 9]"
      ]
     },
     "execution_count": 256,
     "metadata": {},
     "output_type": "execute_result"
    }
   ],
   "source": [
    "l2 = [[10,5,9] , [9,10,4]]\n",
    "result = [] #l2 원소중 홀수만 저장\n",
    "for l in l2:\n",
    "   for v in l:\n",
    "        if v % 2 !=0:\n",
    "           result.append(v)\n",
    "result"
   ]
  },
  {
   "cell_type": "code",
   "execution_count": 241,
   "id": "6f25c277-1786-44a1-bf5e-48d946cf948d",
   "metadata": {},
   "outputs": [
    {
     "data": {
      "text/plain": [
       "[2, 4, 6, 8, 10, 12]"
      ]
     },
     "execution_count": 241,
     "metadata": {},
     "output_type": "execute_result"
    }
   ],
   "source": [
    "# mapping\n",
    "result2 = []\n",
    "for v in l:\n",
    "    result2.append(v * 2)\n",
    "result2"
   ]
  },
  {
   "cell_type": "code",
   "execution_count": 229,
   "id": "a9d9a9c8-1b07-460d-a6fa-46ca79dd6d01",
   "metadata": {},
   "outputs": [
    {
     "data": {
      "text/plain": [
       "[1, 2, 3, 4, 5, 6]"
      ]
     },
     "execution_count": 229,
     "metadata": {},
     "output_type": "execute_result"
    }
   ],
   "source": [
    "l"
   ]
  },
  {
   "cell_type": "code",
   "execution_count": 237,
   "id": "24d854a8-01f4-4a59-8f52-f2e8e4ed826a",
   "metadata": {},
   "outputs": [
    {
     "data": {
      "text/plain": [
       "[2, 4, 6, 8, 10, 12]"
      ]
     },
     "execution_count": 237,
     "metadata": {},
     "output_type": "execute_result"
    }
   ],
   "source": [
    "# mapping을 컴프리헨션 문법으로 구현\n",
    "l\n",
    "result3 = [v*2 for v in l]\n",
    "result3"
   ]
  },
  {
   "cell_type": "code",
   "execution_count": 242,
   "id": "712efa3c-cc82-4ba7-9c49-7dd93754ccee",
   "metadata": {},
   "outputs": [
    {
     "data": {
      "text/plain": [
       "{1: 2, 2: 4, 3: 6, 4: 8, 5: 10, 6: 12}"
      ]
     },
     "execution_count": 242,
     "metadata": {},
     "output_type": "execute_result"
    }
   ],
   "source": [
    "{v:v*2 for v in l}"
   ]
  },
  {
   "cell_type": "code",
   "execution_count": 243,
   "id": "9ead3da2-80cd-48a5-895a-4186bc3a8d32",
   "metadata": {},
   "outputs": [
    {
     "data": {
      "text/plain": [
       "<generator object <genexpr> at 0x0000021B43838C70>"
      ]
     },
     "execution_count": 243,
     "metadata": {},
     "output_type": "execute_result"
    }
   ],
   "source": [
    "(v*2 for v in l) #generator 생성"
   ]
  },
  {
   "cell_type": "code",
   "execution_count": null,
   "id": "06c3befd-4aa3-4fdf-b575-c9a1723bc683",
   "metadata": {},
   "outputs": [],
   "source": []
  },
  {
   "cell_type": "code",
   "execution_count": 244,
   "id": "716e9c18-84a1-40d0-bfa9-b1218c2a9fa6",
   "metadata": {},
   "outputs": [
    {
     "data": {
      "text/plain": [
       "(2, 4, 6, 8, 10, 12)"
      ]
     },
     "execution_count": 244,
     "metadata": {},
     "output_type": "execute_result"
    }
   ],
   "source": [
    "tuple(v*2 for v in l)"
   ]
  },
  {
   "cell_type": "markdown",
   "id": "092288d7",
   "metadata": {
    "slideshow": {
     "slide_type": "skip"
    }
   },
   "source": [
    "# TODO\n"
   ]
  },
  {
   "cell_type": "code",
   "execution_count": null,
   "id": "a0cc04fa",
   "metadata": {
    "slideshow": {
     "slide_type": "skip"
    }
   },
   "outputs": [],
   "source": [
    "# (1) 사용자로 부터 ID를 입력 받은 뒤 입력받은 ID가 5글자 이상이면 \"사용할 수 있습니다.\"를 5글자 미만이면 \"사용할 수 없는 ID입니다.\"를 출력하세요.\n",
    "\n",
    "\n",
    "# (2) 사용자로부터 우리나라 도시명을 입력 받은 뒤 입력받은 도시명이 서울이면 \"특별시\"를 인천,부산,광주,대구,대전,울산 이면 \"광역시\"를 나머지는 \"특별시나 광역시가 아닙니다.\"를 출력하세요.\n",
    "\n",
    "\n",
    "# (3-4)\n",
    "# (3) 아래 리스트의 평균을 구하시오.\n",
    "jumsu = [100, 90, 100, 80, 70, 100, 80, 90, 95, 85]\n",
    "\n",
    "\n",
    "# (4) 위 jumsu리스트에서 평균점수이상은 pass, 미만은 fail을 index번호와 함께 출력하시오. (ex: 0-pass, 1-pass, 2-fail)\n",
    "\n",
    "\n",
    "# (5) 아래 리스트 값들 중 최대값을 조회해 출력하시오.\n",
    "jumsu = [60, 90, 80, 80, 70, 55, 80, 90, 95, 85]\n",
    "\n",
    "\n",
    "# (6) 사용자로부터 정수를 입력받아 그 정수 단의 구구단을 출력하시오.\n",
    "# ex)\n",
    "# 단을 입력하시오 : 2\n",
    "# 2 x 1 = 2\n",
    "# 2 x 2 = 4\n",
    "# ..\n",
    "# 2 x 9 = 18\n",
    "\n",
    "# 컴프리헨션\n",
    "\n",
    "\n",
    "# (7) 다음 리스트의 원소들에 10배한 값을 (원래값, 10배값) 의 튜플 묶음으로 가지는 리스트를 만드시오 (리스트 컴프리헨션 이용)\n",
    "# Ex) [(10,100), (30,300), .., (35, 350)]\n",
    "lst = [10, 30, 70, 5, 5, 120, 700, 1, 35, 35]\n",
    "\n",
    "\n",
    "# (8) 다음 리스트가 가진 값들 중 3의 배수만 가지는 리스트를 만드시오. (리스트 컴프리헨션 이용)\n",
    "lst2 = [3, 20, 33, 21, 33, 8, 11, 10, 7, 17, 60, 120, 2]\n",
    "\n",
    "\n",
    "# (9)) 다음 파일이름들을 담은 리스트에서 확장자가 exe인 파일만 골라서 새로운 리스트에 담으시오.(string의 endswith()함수 이용)\n",
    "file_names = [\n",
    "    \"test.txt\",\n",
    "    \"a.exe\",\n",
    "    \"jupyter.bat\",\n",
    "    \"function.exe\",\n",
    "    \"b.exe\",\n",
    "    \"cat.jpg\",\n",
    "    \"dog.png\",\n",
    "    \"run.exe\",\n",
    "    \"i.dll\",\n",
    "]\n",
    "\n",
    "\n",
    "# (10) 다음 중 10글자 이상인 파일명(확장자포함)만 가지는 리스트를 만드시오.\n",
    "file_names = [\n",
    "    \"mystroy.txt\",\n",
    "    \"a.exe\",\n",
    "    \"jupyter.bat\",\n",
    "    \"function.exe\",\n",
    "    \"b.exe\",\n",
    "    \"cat.jpg\",\n",
    "    \"dog.png\",\n",
    "    \"run.exe\",\n",
    "    \"i.dll\",\n",
    "]"
   ]
  }
 ],
 "metadata": {
  "kernelspec": {
   "display_name": "Python 3 (ipykernel)",
   "language": "python",
   "name": "python3"
  },
  "language_info": {
   "codemirror_mode": {
    "name": "ipython",
    "version": 3
   },
   "file_extension": ".py",
   "mimetype": "text/x-python",
   "name": "python",
   "nbconvert_exporter": "python",
   "pygments_lexer": "ipython3",
   "version": "3.12.9"
  },
  "toc": {
   "base_numbering": 1,
   "nav_menu": {},
   "number_sections": true,
   "sideBar": true,
   "skip_h1_title": false,
   "title_cell": "Table of Contents",
   "title_sidebar": "Contents",
   "toc_cell": false,
   "toc_position": {},
   "toc_section_display": true,
   "toc_window_display": false
  },
  "varInspector": {
   "cols": {
    "lenName": 16,
    "lenType": 16,
    "lenVar": 40
   },
   "kernels_config": {
    "python": {
     "delete_cmd_postfix": "",
     "delete_cmd_prefix": "del ",
     "library": "var_list.py",
     "varRefreshCmd": "print(var_dic_list())"
    },
    "r": {
     "delete_cmd_postfix": ") ",
     "delete_cmd_prefix": "rm(",
     "library": "var_list.r",
     "varRefreshCmd": "cat(var_dic_list()) "
    }
   },
   "types_to_exclude": [
    "module",
    "function",
    "builtin_function_or_method",
    "instance",
    "_Feature"
   ],
   "window_display": false
  }
 },
 "nbformat": 4,
 "nbformat_minor": 5
}
